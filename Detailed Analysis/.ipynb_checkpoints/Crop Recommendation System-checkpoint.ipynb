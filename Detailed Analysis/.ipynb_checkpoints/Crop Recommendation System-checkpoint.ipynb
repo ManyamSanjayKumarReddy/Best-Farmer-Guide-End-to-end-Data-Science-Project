{
 "cells": [
  {
   "cell_type": "markdown",
   "id": "888319c4",
   "metadata": {},
   "source": [
    "**1. Importing Necessary Libraries and Reading the dataset**"
   ]
  },
  {
   "cell_type": "code",
   "execution_count": 1,
   "id": "a27bbcfe",
   "metadata": {},
   "outputs": [],
   "source": [
    "import pandas as pd\n",
    "import numpy as np\n",
    "import seaborn as sns\n",
    "import matplotlib.pyplot as plt\n",
    "%matplotlib inline\n",
    "from __future__ import print_function\n",
    "from sklearn.metrics import classification_report\n",
    "from sklearn import metrics\n",
    "import warnings\n",
    "warnings.filterwarnings('ignore')"
   ]
  },
  {
   "cell_type": "code",
   "execution_count": 2,
   "id": "fb5c531a",
   "metadata": {},
   "outputs": [
    {
     "data": {
      "text/html": [
       "<div>\n",
       "<style scoped>\n",
       "    .dataframe tbody tr th:only-of-type {\n",
       "        vertical-align: middle;\n",
       "    }\n",
       "\n",
       "    .dataframe tbody tr th {\n",
       "        vertical-align: top;\n",
       "    }\n",
       "\n",
       "    .dataframe thead th {\n",
       "        text-align: right;\n",
       "    }\n",
       "</style>\n",
       "<table border=\"1\" class=\"dataframe\">\n",
       "  <thead>\n",
       "    <tr style=\"text-align: right;\">\n",
       "      <th></th>\n",
       "      <th>N</th>\n",
       "      <th>P</th>\n",
       "      <th>K</th>\n",
       "      <th>Temperature</th>\n",
       "      <th>Humidity</th>\n",
       "      <th>PH</th>\n",
       "      <th>Rainfall</th>\n",
       "      <th>Label</th>\n",
       "    </tr>\n",
       "  </thead>\n",
       "  <tbody>\n",
       "    <tr>\n",
       "      <th>0</th>\n",
       "      <td>90.0</td>\n",
       "      <td>42.0</td>\n",
       "      <td>43.0</td>\n",
       "      <td>20.879744</td>\n",
       "      <td>82.002744</td>\n",
       "      <td>6.502985</td>\n",
       "      <td>202.935536</td>\n",
       "      <td>rice</td>\n",
       "    </tr>\n",
       "    <tr>\n",
       "      <th>1</th>\n",
       "      <td>85.0</td>\n",
       "      <td>58.0</td>\n",
       "      <td>41.0</td>\n",
       "      <td>21.770462</td>\n",
       "      <td>80.319644</td>\n",
       "      <td>7.038096</td>\n",
       "      <td>226.655537</td>\n",
       "      <td>rice</td>\n",
       "    </tr>\n",
       "    <tr>\n",
       "      <th>2</th>\n",
       "      <td>60.0</td>\n",
       "      <td>55.0</td>\n",
       "      <td>44.0</td>\n",
       "      <td>23.004459</td>\n",
       "      <td>82.320763</td>\n",
       "      <td>7.840207</td>\n",
       "      <td>263.964248</td>\n",
       "      <td>rice</td>\n",
       "    </tr>\n",
       "    <tr>\n",
       "      <th>3</th>\n",
       "      <td>74.0</td>\n",
       "      <td>35.0</td>\n",
       "      <td>40.0</td>\n",
       "      <td>26.491096</td>\n",
       "      <td>80.158363</td>\n",
       "      <td>6.980401</td>\n",
       "      <td>242.864034</td>\n",
       "      <td>rice</td>\n",
       "    </tr>\n",
       "    <tr>\n",
       "      <th>4</th>\n",
       "      <td>78.0</td>\n",
       "      <td>42.0</td>\n",
       "      <td>42.0</td>\n",
       "      <td>20.130175</td>\n",
       "      <td>81.604873</td>\n",
       "      <td>7.628473</td>\n",
       "      <td>262.717340</td>\n",
       "      <td>rice</td>\n",
       "    </tr>\n",
       "  </tbody>\n",
       "</table>\n",
       "</div>"
      ],
      "text/plain": [
       "      N     P     K  Temperature   Humidity        PH    Rainfall Label\n",
       "0  90.0  42.0  43.0    20.879744  82.002744  6.502985  202.935536  rice\n",
       "1  85.0  58.0  41.0    21.770462  80.319644  7.038096  226.655537  rice\n",
       "2  60.0  55.0  44.0    23.004459  82.320763  7.840207  263.964248  rice\n",
       "3  74.0  35.0  40.0    26.491096  80.158363  6.980401  242.864034  rice\n",
       "4  78.0  42.0  42.0    20.130175  81.604873  7.628473  262.717340  rice"
      ]
     },
     "execution_count": 2,
     "metadata": {},
     "output_type": "execute_result"
    }
   ],
   "source": [
    "df = pd.read_csv('Crop_Recommendation_System_Data.csv')\n",
    "df.head()"
   ]
  },
  {
   "cell_type": "code",
   "execution_count": 3,
   "id": "3e180553",
   "metadata": {},
   "outputs": [
    {
     "data": {
      "text/plain": [
       "17608"
      ]
     },
     "execution_count": 3,
     "metadata": {},
     "output_type": "execute_result"
    }
   ],
   "source": [
    "df.size"
   ]
  },
  {
   "cell_type": "code",
   "execution_count": 4,
   "id": "c39889c0",
   "metadata": {},
   "outputs": [
    {
     "data": {
      "text/plain": [
       "(2201, 8)"
      ]
     },
     "execution_count": 4,
     "metadata": {},
     "output_type": "execute_result"
    }
   ],
   "source": [
    "df.shape"
   ]
  },
  {
   "cell_type": "code",
   "execution_count": 5,
   "id": "da8e8bf0",
   "metadata": {},
   "outputs": [
    {
     "data": {
      "text/plain": [
       "Index(['N', 'P', 'K', 'Temperature', 'Humidity', 'PH', 'Rainfall', 'Label'], dtype='object')"
      ]
     },
     "execution_count": 5,
     "metadata": {},
     "output_type": "execute_result"
    }
   ],
   "source": [
    "df.columns"
   ]
  },
  {
   "cell_type": "code",
   "execution_count": 6,
   "id": "473a59f6",
   "metadata": {},
   "outputs": [
    {
     "data": {
      "text/plain": [
       "array(['rice', 'maize', 'chickpea', 'kidneybeans', 'pigeonpeas', nan,\n",
       "       'mothbeans', 'mungbean', 'blackgram', 'lentil', 'pomegranate',\n",
       "       'banana', 'mango', 'grapes', 'watermelon', 'muskmelon', 'apple',\n",
       "       'orange', 'papaya', 'coconut', 'cotton', 'jute', 'coffee'],\n",
       "      dtype=object)"
      ]
     },
     "execution_count": 6,
     "metadata": {},
     "output_type": "execute_result"
    }
   ],
   "source": [
    "df['Label'].unique()"
   ]
  },
  {
   "cell_type": "code",
   "execution_count": 7,
   "id": "573e25c6",
   "metadata": {},
   "outputs": [
    {
     "data": {
      "text/plain": [
       "N              float64\n",
       "P              float64\n",
       "K              float64\n",
       "Temperature    float64\n",
       "Humidity       float64\n",
       "PH             float64\n",
       "Rainfall       float64\n",
       "Label           object\n",
       "dtype: object"
      ]
     },
     "execution_count": 7,
     "metadata": {},
     "output_type": "execute_result"
    }
   ],
   "source": [
    "df.dtypes"
   ]
  },
  {
   "cell_type": "code",
   "execution_count": 8,
   "id": "929727e3",
   "metadata": {
    "scrolled": true
   },
   "outputs": [
    {
     "data": {
      "text/plain": [
       "Label\n",
       "rice           101\n",
       "banana         100\n",
       "cotton         100\n",
       "coconut        100\n",
       "papaya         100\n",
       "orange         100\n",
       "apple          100\n",
       "muskmelon      100\n",
       "watermelon     100\n",
       "maize          100\n",
       "coffee         100\n",
       "pomegranate    100\n",
       "lentil         100\n",
       "blackgram      100\n",
       "mungbean       100\n",
       "mothbeans      100\n",
       "kidneybeans    100\n",
       "chickpea       100\n",
       "grapes          99\n",
       "pigeonpeas      99\n",
       "jute            99\n",
       "mango           99\n",
       "Name: count, dtype: int64"
      ]
     },
     "execution_count": 8,
     "metadata": {},
     "output_type": "execute_result"
    }
   ],
   "source": [
    "df['Label'].value_counts()"
   ]
  },
  {
   "cell_type": "markdown",
   "id": "c9aefcbc",
   "metadata": {},
   "source": [
    " **2. Handling with Null values**"
   ]
  },
  {
   "cell_type": "code",
   "execution_count": 10,
   "id": "56bfec0a",
   "metadata": {},
   "outputs": [
    {
     "data": {
      "text/plain": [
       "N              8\n",
       "P              8\n",
       "K              6\n",
       "Temperature    9\n",
       "Humidity       7\n",
       "PH             6\n",
       "Rainfall       8\n",
       "Label          4\n",
       "dtype: int64"
      ]
     },
     "execution_count": 10,
     "metadata": {},
     "output_type": "execute_result"
    }
   ],
   "source": [
    "df.isna().sum()"
   ]
  },
  {
   "cell_type": "code",
   "execution_count": 11,
   "id": "12ab07c9",
   "metadata": {},
   "outputs": [
    {
     "data": {
      "text/plain": [
       "N              0\n",
       "P              0\n",
       "K              0\n",
       "Temperature    0\n",
       "Humidity       0\n",
       "PH             0\n",
       "Rainfall       0\n",
       "Label          0\n",
       "dtype: int64"
      ]
     },
     "execution_count": 11,
     "metadata": {},
     "output_type": "execute_result"
    }
   ],
   "source": [
    "# Removing null values\n",
    "df = df.dropna()\n",
    "df.isna().sum()"
   ]
  },
  {
   "cell_type": "code",
   "execution_count": 12,
   "id": "296e495c",
   "metadata": {
    "scrolled": true
   },
   "outputs": [
    {
     "data": {
      "text/html": [
       "<div>\n",
       "<style scoped>\n",
       "    .dataframe tbody tr th:only-of-type {\n",
       "        vertical-align: middle;\n",
       "    }\n",
       "\n",
       "    .dataframe tbody tr th {\n",
       "        vertical-align: top;\n",
       "    }\n",
       "\n",
       "    .dataframe thead th {\n",
       "        text-align: right;\n",
       "    }\n",
       "</style>\n",
       "<table border=\"1\" class=\"dataframe\">\n",
       "  <thead>\n",
       "    <tr style=\"text-align: right;\">\n",
       "      <th></th>\n",
       "      <th>N</th>\n",
       "      <th>P</th>\n",
       "      <th>K</th>\n",
       "      <th>Temperature</th>\n",
       "      <th>Humidity</th>\n",
       "      <th>PH</th>\n",
       "      <th>Rainfall</th>\n",
       "    </tr>\n",
       "  </thead>\n",
       "  <tbody>\n",
       "    <tr>\n",
       "      <th>count</th>\n",
       "      <td>2145.000000</td>\n",
       "      <td>2145.000000</td>\n",
       "      <td>2145.000000</td>\n",
       "      <td>2145.000000</td>\n",
       "      <td>2145.000000</td>\n",
       "      <td>2145.000000</td>\n",
       "      <td>2145.000000</td>\n",
       "    </tr>\n",
       "    <tr>\n",
       "      <th>mean</th>\n",
       "      <td>50.439161</td>\n",
       "      <td>53.529604</td>\n",
       "      <td>48.243357</td>\n",
       "      <td>25.609763</td>\n",
       "      <td>71.381160</td>\n",
       "      <td>6.471903</td>\n",
       "      <td>103.431853</td>\n",
       "    </tr>\n",
       "    <tr>\n",
       "      <th>std</th>\n",
       "      <td>36.928912</td>\n",
       "      <td>32.979714</td>\n",
       "      <td>50.778276</td>\n",
       "      <td>5.062581</td>\n",
       "      <td>22.355713</td>\n",
       "      <td>0.775788</td>\n",
       "      <td>54.946639</td>\n",
       "    </tr>\n",
       "    <tr>\n",
       "      <th>min</th>\n",
       "      <td>0.000000</td>\n",
       "      <td>5.000000</td>\n",
       "      <td>5.000000</td>\n",
       "      <td>8.825675</td>\n",
       "      <td>14.258040</td>\n",
       "      <td>3.504752</td>\n",
       "      <td>20.211267</td>\n",
       "    </tr>\n",
       "    <tr>\n",
       "      <th>25%</th>\n",
       "      <td>21.000000</td>\n",
       "      <td>28.000000</td>\n",
       "      <td>20.000000</td>\n",
       "      <td>22.766430</td>\n",
       "      <td>60.162995</td>\n",
       "      <td>5.971813</td>\n",
       "      <td>64.568076</td>\n",
       "    </tr>\n",
       "    <tr>\n",
       "      <th>50%</th>\n",
       "      <td>37.000000</td>\n",
       "      <td>51.000000</td>\n",
       "      <td>32.000000</td>\n",
       "      <td>25.600337</td>\n",
       "      <td>80.451314</td>\n",
       "      <td>6.425420</td>\n",
       "      <td>94.763230</td>\n",
       "    </tr>\n",
       "    <tr>\n",
       "      <th>75%</th>\n",
       "      <td>84.000000</td>\n",
       "      <td>68.000000</td>\n",
       "      <td>49.000000</td>\n",
       "      <td>28.558525</td>\n",
       "      <td>89.937010</td>\n",
       "      <td>6.929216</td>\n",
       "      <td>124.226174</td>\n",
       "    </tr>\n",
       "    <tr>\n",
       "      <th>max</th>\n",
       "      <td>140.000000</td>\n",
       "      <td>145.000000</td>\n",
       "      <td>205.000000</td>\n",
       "      <td>43.675493</td>\n",
       "      <td>99.981876</td>\n",
       "      <td>9.935091</td>\n",
       "      <td>298.560117</td>\n",
       "    </tr>\n",
       "  </tbody>\n",
       "</table>\n",
       "</div>"
      ],
      "text/plain": [
       "                 N            P            K  Temperature     Humidity   \n",
       "count  2145.000000  2145.000000  2145.000000  2145.000000  2145.000000  \\\n",
       "mean     50.439161    53.529604    48.243357    25.609763    71.381160   \n",
       "std      36.928912    32.979714    50.778276     5.062581    22.355713   \n",
       "min       0.000000     5.000000     5.000000     8.825675    14.258040   \n",
       "25%      21.000000    28.000000    20.000000    22.766430    60.162995   \n",
       "50%      37.000000    51.000000    32.000000    25.600337    80.451314   \n",
       "75%      84.000000    68.000000    49.000000    28.558525    89.937010   \n",
       "max     140.000000   145.000000   205.000000    43.675493    99.981876   \n",
       "\n",
       "                PH     Rainfall  \n",
       "count  2145.000000  2145.000000  \n",
       "mean      6.471903   103.431853  \n",
       "std       0.775788    54.946639  \n",
       "min       3.504752    20.211267  \n",
       "25%       5.971813    64.568076  \n",
       "50%       6.425420    94.763230  \n",
       "75%       6.929216   124.226174  \n",
       "max       9.935091   298.560117  "
      ]
     },
     "execution_count": 12,
     "metadata": {},
     "output_type": "execute_result"
    }
   ],
   "source": [
    "df.describe()"
   ]
  },
  {
   "cell_type": "markdown",
   "id": "3e2e435a",
   "metadata": {},
   "source": [
    "**So, from the above description data we can get to know that data doesn't contains any outliers \n",
    "and the data has no null values as we have cleared from the above step**"
   ]
  },
  {
   "cell_type": "markdown",
   "id": "0fd4498e",
   "metadata": {},
   "source": [
    " **3. Visualizing the new data which is cleaned perfectly**"
   ]
  },
  {
   "cell_type": "code",
   "execution_count": 13,
   "id": "29772bac",
   "metadata": {},
   "outputs": [
    {
     "data": {
      "text/plain": [
       "Text(0, 0.5, 'Count')"
      ]
     },
     "execution_count": 13,
     "metadata": {},
     "output_type": "execute_result"
    },
    {
     "data": {
      "image/png": "[encoded data removed]",
      "text/plain": [
       "<Figure size 2000x1000 with 1 Axes>"
      ]
     },
     "metadata": {},
     "output_type": "display_data"
    }
   ],
   "source": [
    "plt.rcParams[\"figure.figsize\"] = (20,10)\n",
    "plt.hist(df.Label,rwidth=0.7)\n",
    "plt.xlabel(\"Price Per Square Feet\")\n",
    "plt.ylabel(\"Count\")"
   ]
  },
  {
   "cell_type": "markdown",
   "id": "3cbad0e0",
   "metadata": {},
   "source": [
    " **More graphs are not required here because of the reason that is target variable is categorical \n",
    "and the inputs are continious.**"
   ]
  },
  {
   "cell_type": "markdown",
   "id": "476a5ccf",
   "metadata": {},
   "source": [
    " **4. Building the model**"
   ]
  },
  {
   "cell_type": "code",
   "execution_count": 15,
   "id": "5379c482",
   "metadata": {},
   "outputs": [],
   "source": [
    "features = df[['N', 'P','K','Temperature', 'Humidity', 'PH', 'Rainfall']]\n",
    "target = df['Label']"
   ]
  },
  {
   "cell_type": "code",
   "execution_count": 16,
   "id": "e36c1d97",
   "metadata": {
    "scrolled": true
   },
   "outputs": [],
   "source": [
    "# Initialzing empty lists to append all model's name and corresponding name\n",
    "acc = []\n",
    "model = []"
   ]
  },
  {
   "cell_type": "code",
   "execution_count": 17,
   "id": "2d123097",
   "metadata": {},
   "outputs": [],
   "source": [
    "# Splitting into train and test data\n",
    "\n",
    "from sklearn.model_selection import train_test_split\n",
    "X_train, X_test, y_train, y_test = train_test_split(features,target,test_size = 0.2,random_state =2)"
   ]
  },
  {
   "cell_type": "markdown",
   "id": "d7e85d35",
   "metadata": {},
   "source": [
    " **Decison Tree Algorithm**"
   ]
  },
  {
   "cell_type": "code",
   "execution_count": 18,
   "id": "f99d12d1",
   "metadata": {},
   "outputs": [
    {
     "name": "stdout",
     "output_type": "stream",
     "text": [
      "Decision Trees's Accuracy is:  93.24009324009323\n",
      "              precision    recall  f1-score   support\n",
      "\n",
      "       apple       1.00      1.00      1.00        21\n",
      "      banana       1.00      1.00      1.00        17\n",
      "   blackgram       0.66      1.00      0.79        19\n",
      "    chickpea       1.00      1.00      1.00        19\n",
      "     coconut       1.00      1.00      1.00        17\n",
      "      coffee       1.00      0.93      0.96        14\n",
      "      cotton       1.00      1.00      1.00        21\n",
      "      grapes       1.00      1.00      1.00        14\n",
      "        jute       1.00      0.25      0.40        16\n",
      " kidneybeans       1.00      0.82      0.90        17\n",
      "      lentil       0.87      1.00      0.93        20\n",
      "       maize       0.95      1.00      0.97        18\n",
      "       mango       1.00      0.87      0.93        23\n",
      "   mothbeans       1.00      0.57      0.72        23\n",
      "    mungbean       1.00      1.00      1.00        19\n",
      "   muskmelon       1.00      1.00      1.00        20\n",
      "      orange       1.00      1.00      1.00        22\n",
      "      papaya       1.00      1.00      1.00        23\n",
      "  pigeonpeas       0.88      1.00      0.93        21\n",
      " pomegranate       1.00      1.00      1.00        19\n",
      "        rice       0.60      1.00      0.75        18\n",
      "  watermelon       1.00      1.00      1.00        28\n",
      "\n",
      "    accuracy                           0.93       429\n",
      "   macro avg       0.95      0.93      0.92       429\n",
      "weighted avg       0.95      0.93      0.93       429\n",
      "\n"
     ]
    }
   ],
   "source": [
    "from sklearn.tree import DecisionTreeClassifier\n",
    "\n",
    "DecisionTree = DecisionTreeClassifier(criterion=\"entropy\",random_state=2,max_depth=5)\n",
    "\n",
    "DecisionTree.fit(X_train,y_train)\n",
    "\n",
    "predicted_values = DecisionTree.predict(X_test)\n",
    "x = metrics.accuracy_score(y_test, predicted_values)\n",
    "acc.append(x)\n",
    "model.append('Decision Tree')\n",
    "print(\"Decision Trees's Accuracy is: \", x*100)\n",
    "print(classification_report(y_test,predicted_values))"
   ]
  },
  {
   "cell_type": "code",
   "execution_count": 19,
   "id": "65627cf9",
   "metadata": {},
   "outputs": [],
   "source": [
    "from sklearn.model_selection import cross_val_score"
   ]
  },
  {
   "cell_type": "code",
   "execution_count": 20,
   "id": "4d998d71",
   "metadata": {},
   "outputs": [
    {
     "data": {
      "text/plain": [
       "array([0.93473193, 0.90675991, 0.92074592, 0.90675991, 0.87179487])"
      ]
     },
     "execution_count": 20,
     "metadata": {},
     "output_type": "execute_result"
    }
   ],
   "source": [
    "# Cross validation score (Decision Tree)\n",
    "score = cross_val_score(DecisionTree, features, target,cv=5)\n",
    "score"
   ]
  },
  {
   "cell_type": "markdown",
   "id": "b9e5fec7",
   "metadata": {},
   "source": [
    " **Guassian Naive Bayes Algorithm**"
   ]
  },
  {
   "cell_type": "code",
   "execution_count": 21,
   "id": "8fbfe178",
   "metadata": {},
   "outputs": [
    {
     "name": "stdout",
     "output_type": "stream",
     "text": [
      "Naive Bayes's Accuracy is:  99.3006993006993\n",
      "              precision    recall  f1-score   support\n",
      "\n",
      "       apple       1.00      1.00      1.00        21\n",
      "      banana       1.00      1.00      1.00        17\n",
      "   blackgram       1.00      1.00      1.00        19\n",
      "    chickpea       1.00      1.00      1.00        19\n",
      "     coconut       1.00      1.00      1.00        17\n",
      "      coffee       1.00      1.00      1.00        14\n",
      "      cotton       1.00      1.00      1.00        21\n",
      "      grapes       1.00      1.00      1.00        14\n",
      "        jute       0.88      0.94      0.91        16\n",
      " kidneybeans       1.00      1.00      1.00        17\n",
      "      lentil       1.00      1.00      1.00        20\n",
      "       maize       1.00      1.00      1.00        18\n",
      "       mango       1.00      1.00      1.00        23\n",
      "   mothbeans       1.00      1.00      1.00        23\n",
      "    mungbean       1.00      1.00      1.00        19\n",
      "   muskmelon       1.00      1.00      1.00        20\n",
      "      orange       1.00      1.00      1.00        22\n",
      "      papaya       1.00      1.00      1.00        23\n",
      "  pigeonpeas       1.00      1.00      1.00        21\n",
      " pomegranate       1.00      1.00      1.00        19\n",
      "        rice       0.94      0.89      0.91        18\n",
      "  watermelon       1.00      1.00      1.00        28\n",
      "\n",
      "    accuracy                           0.99       429\n",
      "   macro avg       0.99      0.99      0.99       429\n",
      "weighted avg       0.99      0.99      0.99       429\n",
      "\n"
     ]
    }
   ],
   "source": [
    "from sklearn.naive_bayes import GaussianNB\n",
    "\n",
    "NaiveBayes = GaussianNB()\n",
    "\n",
    "NaiveBayes.fit(X_train,y_train)\n",
    "\n",
    "predicted_values = NaiveBayes.predict(X_test)\n",
    "x = metrics.accuracy_score(y_test, predicted_values)\n",
    "acc.append(x)\n",
    "model.append('Naive Bayes')\n",
    "print(\"Naive Bayes's Accuracy is: \", x*100)\n",
    "\n",
    "print(classification_report(y_test,predicted_values))"
   ]
  },
  {
   "cell_type": "code",
   "execution_count": 22,
   "id": "8289a257",
   "metadata": {},
   "outputs": [
    {
     "data": {
      "text/plain": [
       "array([0.995338  , 0.995338  , 0.995338  , 0.995338  , 0.99067599])"
      ]
     },
     "execution_count": 22,
     "metadata": {},
     "output_type": "execute_result"
    }
   ],
   "source": [
    "# Cross validation score (NaiveBayes)\n",
    "score = cross_val_score(NaiveBayes,features,target,cv=5)\n",
    "score"
   ]
  },
  {
   "cell_type": "markdown",
   "id": "d33e501a",
   "metadata": {},
   "source": [
    "**Support Vector Machine (SVM) Algorithm**"
   ]
  },
  {
   "cell_type": "code",
   "execution_count": 23,
   "id": "db364c94",
   "metadata": {},
   "outputs": [
    {
     "name": "stdout",
     "output_type": "stream",
     "text": [
      "SVM's Accuracy is:  97.66899766899768\n",
      "              precision    recall  f1-score   support\n",
      "\n",
      "       apple       1.00      1.00      1.00        21\n",
      "      banana       1.00      1.00      1.00        17\n",
      "   blackgram       1.00      1.00      1.00        19\n",
      "    chickpea       1.00      1.00      1.00        19\n",
      "     coconut       1.00      1.00      1.00        17\n",
      "      coffee       1.00      1.00      1.00        14\n",
      "      cotton       1.00      1.00      1.00        21\n",
      "      grapes       1.00      1.00      1.00        14\n",
      "        jute       0.74      0.88      0.80        16\n",
      " kidneybeans       0.94      1.00      0.97        17\n",
      "      lentil       0.95      0.95      0.95        20\n",
      "       maize       1.00      1.00      1.00        18\n",
      "       mango       1.00      1.00      1.00        23\n",
      "   mothbeans       0.96      0.96      0.96        23\n",
      "    mungbean       1.00      1.00      1.00        19\n",
      "   muskmelon       1.00      1.00      1.00        20\n",
      "      orange       1.00      1.00      1.00        22\n",
      "      papaya       1.00      1.00      1.00        23\n",
      "  pigeonpeas       1.00      0.95      0.98        21\n",
      " pomegranate       1.00      1.00      1.00        19\n",
      "        rice       0.87      0.72      0.79        18\n",
      "  watermelon       1.00      1.00      1.00        28\n",
      "\n",
      "    accuracy                           0.98       429\n",
      "   macro avg       0.98      0.98      0.97       429\n",
      "weighted avg       0.98      0.98      0.98       429\n",
      "\n"
     ]
    }
   ],
   "source": [
    "from sklearn.svm import SVC\n",
    "# data normalization with sklearn\n",
    "from sklearn.preprocessing import MinMaxScaler\n",
    "# fit scaler on training data\n",
    "norm = MinMaxScaler().fit(X_train)\n",
    "X_train_norm = norm.transform(X_train)\n",
    "# transform testing dataabs\n",
    "X_test_norm = norm.transform(X_test)\n",
    "SVM = SVC(kernel='poly', degree=3, C=1)\n",
    "SVM.fit(X_train_norm,y_train)\n",
    "predicted_values = SVM.predict(X_test_norm)\n",
    "x = metrics.accuracy_score(y_test, predicted_values)\n",
    "acc.append(x)\n",
    "model.append('SVM')\n",
    "print(\"SVM's Accuracy is: \", x*100)\n",
    "\n",
    "print(classification_report(y_test,predicted_values))"
   ]
  },
  {
   "cell_type": "code",
   "execution_count": 24,
   "id": "d76e84aa",
   "metadata": {},
   "outputs": [
    {
     "data": {
      "text/plain": [
       "array([0.97202797, 0.97668998, 0.99300699, 0.98368298, 0.98135198])"
      ]
     },
     "execution_count": 24,
     "metadata": {},
     "output_type": "execute_result"
    }
   ],
   "source": [
    "# Cross validation score (SVM)\n",
    "score = cross_val_score(SVM,features,target,cv=5)\n",
    "score"
   ]
  },
  {
   "cell_type": "markdown",
   "id": "4922865f",
   "metadata": {},
   "source": [
    "**Logistic Regression Algorithm**"
   ]
  },
  {
   "cell_type": "code",
   "execution_count": 25,
   "id": "76add6c3",
   "metadata": {},
   "outputs": [
    {
     "name": "stdout",
     "output_type": "stream",
     "text": [
      "Logistic Regression's Accuracy is:  93.93939393939394\n",
      "              precision    recall  f1-score   support\n",
      "\n",
      "       apple       1.00      1.00      1.00        21\n",
      "      banana       0.94      1.00      0.97        17\n",
      "   blackgram       0.79      0.79      0.79        19\n",
      "    chickpea       1.00      1.00      1.00        19\n",
      "     coconut       1.00      1.00      1.00        17\n",
      "      coffee       0.93      1.00      0.97        14\n",
      "      cotton       1.00      0.95      0.98        21\n",
      "      grapes       1.00      1.00      1.00        14\n",
      "        jute       0.70      0.88      0.78        16\n",
      " kidneybeans       1.00      1.00      1.00        17\n",
      "      lentil       0.86      0.95      0.90        20\n",
      "       maize       0.93      0.78      0.85        18\n",
      "       mango       0.96      1.00      0.98        23\n",
      "   mothbeans       0.86      0.78      0.82        23\n",
      "    mungbean       0.86      0.95      0.90        19\n",
      "   muskmelon       1.00      1.00      1.00        20\n",
      "      orange       1.00      1.00      1.00        22\n",
      "      papaya       1.00      0.96      0.98        23\n",
      "  pigeonpeas       0.95      0.95      0.95        21\n",
      " pomegranate       1.00      1.00      1.00        19\n",
      "        rice       0.86      0.67      0.75        18\n",
      "  watermelon       1.00      1.00      1.00        28\n",
      "\n",
      "    accuracy                           0.94       429\n",
      "   macro avg       0.94      0.94      0.94       429\n",
      "weighted avg       0.94      0.94      0.94       429\n",
      "\n"
     ]
    }
   ],
   "source": [
    "from sklearn.linear_model import LogisticRegression\n",
    "\n",
    "LogReg = LogisticRegression(random_state=2)\n",
    "\n",
    "LogReg.fit(X_train,y_train)\n",
    "\n",
    "predicted_values = LogReg.predict(X_test)\n",
    "\n",
    "x = metrics.accuracy_score(y_test, predicted_values)\n",
    "acc.append(x)\n",
    "model.append('Logistic Regression')\n",
    "print(\"Logistic Regression's Accuracy is: \", x*100)\n",
    "\n",
    "print(classification_report(y_test,predicted_values))"
   ]
  },
  {
   "cell_type": "code",
   "execution_count": 26,
   "id": "5712558d",
   "metadata": {},
   "outputs": [
    {
     "data": {
      "text/plain": [
       "array([0.94638695, 0.96503497, 0.96037296, 0.96503497, 0.94172494])"
      ]
     },
     "execution_count": 26,
     "metadata": {},
     "output_type": "execute_result"
    }
   ],
   "source": [
    "# Cross validation score (Logistic Regression)\n",
    "score = cross_val_score(LogReg,features,target,cv=5)\n",
    "score"
   ]
  },
  {
   "cell_type": "markdown",
   "id": "7f215282",
   "metadata": {},
   "source": [
    " **Random Forest Algorithm**"
   ]
  },
  {
   "cell_type": "code",
   "execution_count": 27,
   "id": "9f669f41",
   "metadata": {},
   "outputs": [
    {
     "name": "stdout",
     "output_type": "stream",
     "text": [
      "RF's Accuracy is:  99.53379953379954\n",
      "              precision    recall  f1-score   support\n",
      "\n",
      "       apple       1.00      1.00      1.00        21\n",
      "      banana       1.00      1.00      1.00        17\n",
      "   blackgram       1.00      1.00      1.00        19\n",
      "    chickpea       1.00      1.00      1.00        19\n",
      "     coconut       1.00      1.00      1.00        17\n",
      "      coffee       1.00      1.00      1.00        14\n",
      "      cotton       1.00      1.00      1.00        21\n",
      "      grapes       1.00      1.00      1.00        14\n",
      "        jute       0.89      1.00      0.94        16\n",
      " kidneybeans       1.00      1.00      1.00        17\n",
      "      lentil       1.00      1.00      1.00        20\n",
      "       maize       1.00      1.00      1.00        18\n",
      "       mango       1.00      1.00      1.00        23\n",
      "   mothbeans       1.00      1.00      1.00        23\n",
      "    mungbean       1.00      1.00      1.00        19\n",
      "   muskmelon       1.00      1.00      1.00        20\n",
      "      orange       1.00      1.00      1.00        22\n",
      "      papaya       1.00      1.00      1.00        23\n",
      "  pigeonpeas       1.00      1.00      1.00        21\n",
      " pomegranate       1.00      1.00      1.00        19\n",
      "        rice       1.00      0.89      0.94        18\n",
      "  watermelon       1.00      1.00      1.00        28\n",
      "\n",
      "    accuracy                           1.00       429\n",
      "   macro avg       0.99      0.99      0.99       429\n",
      "weighted avg       1.00      1.00      1.00       429\n",
      "\n"
     ]
    }
   ],
   "source": [
    "from sklearn.ensemble import RandomForestClassifier\n",
    "\n",
    "RF = RandomForestClassifier(n_estimators=20, random_state=0)\n",
    "RF.fit(X_train,y_train)\n",
    "\n",
    "predicted_values = RF.predict(X_test)\n",
    "\n",
    "x = metrics.accuracy_score(y_test, predicted_values)\n",
    "acc.append(x)\n",
    "model.append('Random Forest')\n",
    "print(\"RF's Accuracy is: \", x*100)\n",
    "\n",
    "print(classification_report(y_test,predicted_values))"
   ]
  },
  {
   "cell_type": "code",
   "execution_count": 28,
   "id": "f1ff094e",
   "metadata": {},
   "outputs": [
    {
     "data": {
      "text/plain": [
       "array([0.995338  , 0.99067599, 0.99300699, 0.997669  , 0.98601399])"
      ]
     },
     "execution_count": 28,
     "metadata": {},
     "output_type": "execute_result"
    }
   ],
   "source": [
    "# Cross validation score (Random Forest)\n",
    "score = cross_val_score(RF,features,target,cv=5)\n",
    "score"
   ]
  },
  {
   "cell_type": "markdown",
   "id": "6d72b9ff",
   "metadata": {},
   "source": [
    "**XGBoost Algorithm**"
   ]
  },
  {
   "cell_type": "markdown",
   "id": "2bb1b4f3",
   "metadata": {},
   "source": [
    "**Accuracy Comparision**"
   ]
  },
  {
   "cell_type": "code",
   "execution_count": 32,
   "id": "fe03f9f7",
   "metadata": {},
   "outputs": [
    {
     "data": {
      "text/plain": [
       "<Axes: title={'center': 'Accuracy Comparison'}, xlabel='Accuracy', ylabel='Algorithm'>"
      ]
     },
     "execution_count": 32,
     "metadata": {},
     "output_type": "execute_result"
    },
    {
     "data": {
      "image/png": "[encoded data removed]",
      "text/plain": [
       "<Figure size 700x350 with 1 Axes>"
      ]
     },
     "metadata": {},
     "output_type": "display_data"
    }
   ],
   "source": [
    "plt.figure(figsize=[10,5],dpi = 70)\n",
    "plt.title('Accuracy Comparison')\n",
    "plt.xlabel('Accuracy')\n",
    "plt.ylabel('Algorithm')\n",
    "sns.barplot(x = acc,y = model,palette='dark')"
   ]
  },
  {
   "cell_type": "code",
   "execution_count": 33,
   "id": "4637bbf2",
   "metadata": {},
   "outputs": [
    {
     "name": "stdout",
     "output_type": "stream",
     "text": [
      "Decision Tree --> 93.24009324009323\n",
      "Naive Bayes --> 99.3006993006993\n",
      "SVM --> 97.66899766899768\n",
      "Logistic Regression --> 93.93939393939394\n",
      "Random Forest --> 99.53379953379954\n"
     ]
    }
   ],
   "source": [
    "accuracy_models = dict(zip(model, acc))\n",
    "for k, v in accuracy_models.items():\n",
    "    print (k, '-->', v*100)"
   ]
  },
  {
   "cell_type": "markdown",
   "id": "efc0a798",
   "metadata": {},
   "source": [
    " **From the above comparision we conclude that among all the algorithms Random Forests accuracy is more**"
   ]
  },
  {
   "cell_type": "markdown",
   "id": "cf28ca92",
   "metadata": {},
   "source": [
    "**5. Predicting the output using Random Forest**"
   ]
  },
  {
   "cell_type": "code",
   "execution_count": 41,
   "id": "d736b520",
   "metadata": {},
   "outputs": [
    {
     "name": "stdout",
     "output_type": "stream",
     "text": [
      "Enter the amount of Nitrogen in ppm: 104\n",
      "Enter the amount of Phosphorus in ppm : 18\n",
      "Enter the amount of Pottassium in ppm: 30\n",
      "Enter the Value of Temperature in Celcius : 23\n",
      "Enter the Humidity value in percentage : 60\n",
      "Enter the PH value : 6.7\n",
      "Enter the amount of Rainfall in mm: 104\n",
      "The Crop that is best fit in this Conditions is :  coffee\n"
     ]
    }
   ],
   "source": [
    "Nitrogen = input('Enter the amount of Nitrogen in ppm: ')\n",
    "Phosphorus = input('Enter the amount of Phosphorus in ppm : ')\n",
    "Pottassium = input('Enter the amount of Pottassium in ppm: ')\n",
    "Temperature = input('Enter the Value of Temperature in Celcius : ')\n",
    "Humidity = input('Enter the Humidity value in percentage : ')\n",
    "PH_Value = input('Enter the PH value : ')\n",
    "Rainfall = input('Enter the amount of Rainfall in mm: ')\n",
    "Data = np.array([[Nitrogen,Phosphorus,Pottassium,Temperature,Humidity,PH_Value,Rainfall]])\n",
    "prediction = RF.predict(Data)\n",
    "print(\"The Crop that is best fit in this Conditions is :\",prediction[0])"
   ]
  },
  {
   "cell_type": "code",
   "execution_count": null,
   "id": "eb4b2e98",
   "metadata": {},
   "outputs": [],
   "source": []
  }
 ],
 "metadata": {
  "kernelspec": {
   "display_name": "Python 3 (ipykernel)",
   "language": "python",
   "name": "python3"
  },
  "language_info": {
   "codemirror_mode": {
    "name": "ipython",
    "version": 3
   },
   "file_extension": ".py",
   "mimetype": "text/x-python",
   "name": "python",
   "nbconvert_exporter": "python",
   "pygments_lexer": "ipython3",
   "version": "3.8.10"
  }
 },
 "nbformat": 4,
 "nbformat_minor": 5
}
